{
  "nbformat": 4,
  "nbformat_minor": 0,
  "metadata": {
    "colab": {
      "name": "torch_gather.ipynb",
      "provenance": [],
      "collapsed_sections": [],
      "authorship_tag": "ABX9TyP8dVc6ieIPvtMYzssyF9jP",
      "include_colab_link": true
    },
    "kernelspec": {
      "name": "python3",
      "display_name": "Python 3"
    }
  },
  "cells": [
    {
      "cell_type": "markdown",
      "metadata": {
        "id": "view-in-github",
        "colab_type": "text"
      },
      "source": [
        "<a href=\"https://colab.research.google.com/github/pranavchat14/torch/blob/main/torch_gather.ipynb\" target=\"_parent\"><img src=\"https://colab.research.google.com/assets/colab-badge.svg\" alt=\"Open In Colab\"/></a>"
      ]
    },
    {
      "cell_type": "markdown",
      "metadata": {
        "id": "uC0RS2AGNtMo"
      },
      "source": [
        "# 2D Case"
      ]
    },
    {
      "cell_type": "code",
      "metadata": {
        "id": "9vQC8YIP4kFv"
      },
      "source": [
        "import torch"
      ],
      "execution_count": 1,
      "outputs": []
    },
    {
      "cell_type": "code",
      "metadata": {
        "id": "WU793V3x4pto",
        "outputId": "cdc2605f-7b98-4c20-890a-b7413909d28d",
        "colab": {
          "base_uri": "https://localhost:8080/",
          "height": 100
        }
      },
      "source": [
        "src_2d = torch.tensor([[0, 1, 2, 3], [4, 5, 6, 7], [8, 9, 10, 11], [12, 13, 14, 15]])\n",
        "print(src_2d)\n",
        "print('Shape:', src_2d.shape)"
      ],
      "execution_count": 2,
      "outputs": [
        {
          "output_type": "stream",
          "text": [
            "tensor([[ 0,  1,  2,  3],\n",
            "        [ 4,  5,  6,  7],\n",
            "        [ 8,  9, 10, 11],\n",
            "        [12, 13, 14, 15]])\n",
            "Shape: torch.Size([4, 4])\n"
          ],
          "name": "stdout"
        }
      ]
    },
    {
      "cell_type": "markdown",
      "metadata": {
        "id": "mIZwiNeuIjJ8"
      },
      "source": [
        "\n",
        "We'd like a row like output tensor of shape (1,4), so our index tensor should be of shape (1, 4) just like output tensor."
      ]
    },
    {
      "cell_type": "code",
      "metadata": {
        "id": "fwnuC-N56GaR",
        "outputId": "56e5927c-9083-4251-dc64-412ce04149fa",
        "colab": {
          "base_uri": "https://localhost:8080/",
          "height": 50
        }
      },
      "source": [
        "ind_2d = torch.tensor([3, 2, 0, 1])\n",
        "ind_2d = ind_2d.reshape(1, 4)\n",
        "print(ind_2d)\n",
        "print('Shape:', ind_2d.shape)"
      ],
      "execution_count": 3,
      "outputs": [
        {
          "output_type": "stream",
          "text": [
            "tensor([[3, 2, 0, 1]])\n",
            "Shape: torch.Size([1, 4])\n"
          ],
          "name": "stdout"
        }
      ]
    },
    {
      "cell_type": "code",
      "metadata": {
        "id": "73GnvDy-6aRZ",
        "outputId": "f70e27e8-b635-497a-c7f1-d20114b80542",
        "colab": {
          "base_uri": "https://localhost:8080/",
          "height": 50
        }
      },
      "source": [
        "print('for dim = 0', torch.gather(src_2d, 0, ind_2d))    #dim = 0, we're selecting rows a/c ind tensor.\n",
        "print('for dim = 1', torch.gather(src_2d, 1, ind_2d))    #dim = 1, we're selecting columns a/c ind tensor."
      ],
      "execution_count": 4,
      "outputs": [
        {
          "output_type": "stream",
          "text": [
            "for dim = 0 tensor([[12,  9,  2,  7]])\n",
            "for dim = 1 tensor([[3, 2, 0, 1]])\n"
          ],
          "name": "stdout"
        }
      ]
    },
    {
      "cell_type": "markdown",
      "metadata": {
        "id": "niFAVc3-Kkbd"
      },
      "source": [
        "We'd like a **column** like output tensor of shape (4,1), so our index tensor should be of shape (4, 1) just like output tensor."
      ]
    },
    {
      "cell_type": "code",
      "metadata": {
        "id": "Szq6hJp_L_JH",
        "outputId": "6eedef6a-5d86-4896-9ed5-52c84a66667e",
        "colab": {
          "base_uri": "https://localhost:8080/",
          "height": 100
        }
      },
      "source": [
        "ind_2d = torch.tensor([0, 1, 2, 3])\n",
        "ind_2d = ind_2d.reshape(4, 1)\n",
        "print(ind_2d)\n",
        "print('Shape:', ind_2d.shape)"
      ],
      "execution_count": 5,
      "outputs": [
        {
          "output_type": "stream",
          "text": [
            "tensor([[0],\n",
            "        [1],\n",
            "        [2],\n",
            "        [3]])\n",
            "Shape: torch.Size([4, 1])\n"
          ],
          "name": "stdout"
        }
      ]
    },
    {
      "cell_type": "code",
      "metadata": {
        "id": "YEltn2E7L_Mq",
        "outputId": "219c48af-b55f-42e3-ff75-f7f020480ff3",
        "colab": {
          "base_uri": "https://localhost:8080/",
          "height": 184
        }
      },
      "source": [
        "print('for dim = 0') \n",
        "print(torch.gather(src_2d, 0, ind_2d))\n",
        "print('for dim = 1')\n",
        "print(torch.gather(src_2d, 1, ind_2d))"
      ],
      "execution_count": 6,
      "outputs": [
        {
          "output_type": "stream",
          "text": [
            "for dim = 0\n",
            "tensor([[ 0],\n",
            "        [ 4],\n",
            "        [ 8],\n",
            "        [12]])\n",
            "for dim = 1\n",
            "tensor([[ 0],\n",
            "        [ 5],\n",
            "        [10],\n",
            "        [15]])\n"
          ],
          "name": "stdout"
        }
      ]
    },
    {
      "cell_type": "markdown",
      "metadata": {
        "id": "72zxsv5_N2Jq"
      },
      "source": [
        "# 3D Case"
      ]
    },
    {
      "cell_type": "code",
      "metadata": {
        "id": "msjuwr9c6oqx",
        "outputId": "f0946ad3-837d-4d81-952b-f50d88d14b93",
        "colab": {
          "base_uri": "https://localhost:8080/",
          "height": 217
        }
      },
      "source": [
        "src_3d = torch.tensor([[[0, 1, 2, 3], [4, 5, 6, 7], [8, 9, 10, 11]],\n",
        "                 [[12, 13, 14, 15], [16, 17, 18, 19], [20, 21, 22, 23]],\n",
        "                  [[24, 25, 26, 27], [28, 29, 30, 31], [32, 33, 34, 35]]])\n",
        "print(src_3d)\n",
        "print('Shape:', src_3d.shape)"
      ],
      "execution_count": 7,
      "outputs": [
        {
          "output_type": "stream",
          "text": [
            "tensor([[[ 0,  1,  2,  3],\n",
            "         [ 4,  5,  6,  7],\n",
            "         [ 8,  9, 10, 11]],\n",
            "\n",
            "        [[12, 13, 14, 15],\n",
            "         [16, 17, 18, 19],\n",
            "         [20, 21, 22, 23]],\n",
            "\n",
            "        [[24, 25, 26, 27],\n",
            "         [28, 29, 30, 31],\n",
            "         [32, 33, 34, 35]]])\n",
            "Shape: torch.Size([3, 3, 4])\n"
          ],
          "name": "stdout"
        }
      ]
    },
    {
      "cell_type": "markdown",
      "metadata": {
        "id": "xwGAGKCtikEF"
      },
      "source": [
        "We'd like to have an output tensor that contains **three images(say) of row like tensor**. So the of output tensor would be (3, 1, 3) and index tensor would also have the same shape."
      ]
    },
    {
      "cell_type": "code",
      "metadata": {
        "id": "v93fI8NtBVr-",
        "outputId": "1aca0dc3-e2a5-4daa-f699-55082b04b1f7",
        "colab": {
          "base_uri": "https://localhost:8080/",
          "height": 117
        }
      },
      "source": [
        "ind_3d = torch.tensor([[0, 1, 2, 2], [0, 0, 1, 2], [2, 1, 0, 2]])\n",
        "ind_3d = ind_3d.reshape(3, 1, 4)\n",
        "print(ind_3d)\n",
        "print('Shape', ind_3d.shape)"
      ],
      "execution_count": 8,
      "outputs": [
        {
          "output_type": "stream",
          "text": [
            "tensor([[[0, 1, 2, 2]],\n",
            "\n",
            "        [[0, 0, 1, 2]],\n",
            "\n",
            "        [[2, 1, 0, 2]]])\n",
            "Shape torch.Size([3, 1, 4])\n"
          ],
          "name": "stdout"
        }
      ]
    },
    {
      "cell_type": "code",
      "metadata": {
        "id": "BNnF-kjSB3kE",
        "outputId": "2b388828-0269-4f8d-a570-96576ca882e3",
        "colab": {
          "base_uri": "https://localhost:8080/",
          "height": 100
        }
      },
      "source": [
        "#for dim = 0 \n",
        "torch.gather(src_3d, 0, ind_3d)"
      ],
      "execution_count": 9,
      "outputs": [
        {
          "output_type": "execute_result",
          "data": {
            "text/plain": [
              "tensor([[[ 0, 13, 26, 27]],\n",
              "\n",
              "        [[ 0,  1, 14, 27]],\n",
              "\n",
              "        [[24, 13,  2, 27]]])"
            ]
          },
          "metadata": {
            "tags": []
          },
          "execution_count": 9
        }
      ]
    },
    {
      "cell_type": "code",
      "metadata": {
        "id": "01LPgeGkiNL_",
        "outputId": "67f1b7ad-913c-4570-c9a8-e294c21c8106",
        "colab": {
          "base_uri": "https://localhost:8080/",
          "height": 100
        }
      },
      "source": [
        "#for dim = 1\n",
        "torch.gather(src_3d, 1, ind_3d)"
      ],
      "execution_count": 10,
      "outputs": [
        {
          "output_type": "execute_result",
          "data": {
            "text/plain": [
              "tensor([[[ 0,  5, 10, 11]],\n",
              "\n",
              "        [[12, 13, 18, 23]],\n",
              "\n",
              "        [[32, 29, 26, 35]]])"
            ]
          },
          "metadata": {
            "tags": []
          },
          "execution_count": 10
        }
      ]
    },
    {
      "cell_type": "code",
      "metadata": {
        "id": "a4SmftMUiUVY",
        "outputId": "5807803d-5392-44d2-cb12-161e442bcd25",
        "colab": {
          "base_uri": "https://localhost:8080/",
          "height": 100
        }
      },
      "source": [
        "#for dim = 2\n",
        "torch.gather(src_3d, 2, ind_3d)"
      ],
      "execution_count": 11,
      "outputs": [
        {
          "output_type": "execute_result",
          "data": {
            "text/plain": [
              "tensor([[[ 0,  1,  2,  2]],\n",
              "\n",
              "        [[12, 12, 13, 14]],\n",
              "\n",
              "        [[26, 25, 24, 26]]])"
            ]
          },
          "metadata": {
            "tags": []
          },
          "execution_count": 11
        }
      ]
    },
    {
      "cell_type": "markdown",
      "metadata": {
        "id": "JKTHgwUwjWWW"
      },
      "source": [
        "We'd like to have an output tensor that contains **three images(say) of column like tensor**. So the of output tensor would be (3, 3, 1) and index tensor would also have the same shape."
      ]
    },
    {
      "cell_type": "code",
      "metadata": {
        "id": "_EFNVuoKjd_y",
        "outputId": "386b9817-4957-417f-96de-e902da8199d8",
        "colab": {
          "base_uri": "https://localhost:8080/",
          "height": 217
        }
      },
      "source": [
        "ind_3d = torch.tensor([[0, 1, 2], [0, 1, 2], [0, 1, 2]])\n",
        "ind_3d = ind_3d.reshape(3, 3, 1)\n",
        "print(ind_3d)\n",
        "print('Shape', ind_3d.shape)"
      ],
      "execution_count": 12,
      "outputs": [
        {
          "output_type": "stream",
          "text": [
            "tensor([[[0],\n",
            "         [1],\n",
            "         [2]],\n",
            "\n",
            "        [[0],\n",
            "         [1],\n",
            "         [2]],\n",
            "\n",
            "        [[0],\n",
            "         [1],\n",
            "         [2]]])\n",
            "Shape torch.Size([3, 3, 1])\n"
          ],
          "name": "stdout"
        }
      ]
    },
    {
      "cell_type": "code",
      "metadata": {
        "id": "f4xFs5-tjgT0",
        "outputId": "98dafd1e-cc5e-4e20-9fbc-aa2ff431c859",
        "colab": {
          "base_uri": "https://localhost:8080/",
          "height": 201
        }
      },
      "source": [
        "#for dim = 0 \n",
        "torch.gather(src_3d, 0, ind_3d)"
      ],
      "execution_count": 13,
      "outputs": [
        {
          "output_type": "execute_result",
          "data": {
            "text/plain": [
              "tensor([[[ 0],\n",
              "         [16],\n",
              "         [32]],\n",
              "\n",
              "        [[ 0],\n",
              "         [16],\n",
              "         [32]],\n",
              "\n",
              "        [[ 0],\n",
              "         [16],\n",
              "         [32]]])"
            ]
          },
          "metadata": {
            "tags": []
          },
          "execution_count": 13
        }
      ]
    },
    {
      "cell_type": "code",
      "metadata": {
        "id": "7Yej9BsFj0ah",
        "outputId": "5af69bc8-096a-4728-c4b1-1f4ffe1c9920",
        "colab": {
          "base_uri": "https://localhost:8080/",
          "height": 201
        }
      },
      "source": [
        "#for dim = 1\n",
        "torch.gather(src_3d, 1, ind_3d)"
      ],
      "execution_count": 14,
      "outputs": [
        {
          "output_type": "execute_result",
          "data": {
            "text/plain": [
              "tensor([[[ 0],\n",
              "         [ 4],\n",
              "         [ 8]],\n",
              "\n",
              "        [[12],\n",
              "         [16],\n",
              "         [20]],\n",
              "\n",
              "        [[24],\n",
              "         [28],\n",
              "         [32]]])"
            ]
          },
          "metadata": {
            "tags": []
          },
          "execution_count": 14
        }
      ]
    },
    {
      "cell_type": "code",
      "metadata": {
        "id": "K7JvZyzBj2l1",
        "outputId": "d51c5405-3bb6-4a8f-dc74-1e916d573f02",
        "colab": {
          "base_uri": "https://localhost:8080/",
          "height": 201
        }
      },
      "source": [
        "#for dim = 2\n",
        "torch.gather(src_3d, 2, ind_3d)"
      ],
      "execution_count": 15,
      "outputs": [
        {
          "output_type": "execute_result",
          "data": {
            "text/plain": [
              "tensor([[[ 0],\n",
              "         [ 5],\n",
              "         [10]],\n",
              "\n",
              "        [[12],\n",
              "         [17],\n",
              "         [22]],\n",
              "\n",
              "        [[24],\n",
              "         [29],\n",
              "         [34]]])"
            ]
          },
          "metadata": {
            "tags": []
          },
          "execution_count": 15
        }
      ]
    },
    {
      "cell_type": "markdown",
      "metadata": {
        "id": "0YKRLD0Kj_QZ"
      },
      "source": [
        "We'd like to have an output tensor that contains **one image(say) of (3,3) matrix i.e, 3 rows and 3 columns**. So the of output tensor would be (1, 3, 3) and index tensor would also have the same shape."
      ]
    },
    {
      "cell_type": "code",
      "metadata": {
        "id": "UrV-umzej4cV",
        "outputId": "b722b136-986d-4b48-c197-76fd408b5705",
        "colab": {
          "base_uri": "https://localhost:8080/",
          "height": 84
        }
      },
      "source": [
        "ind_3d = torch.tensor([[0, 1, 2], [0, 1, 2], [0, 1, 2]])\n",
        "ind_3d = ind_3d.reshape(1, 3, 3)\n",
        "print(ind_3d)\n",
        "print('Shape', ind_3d.shape)"
      ],
      "execution_count": 16,
      "outputs": [
        {
          "output_type": "stream",
          "text": [
            "tensor([[[0, 1, 2],\n",
            "         [0, 1, 2],\n",
            "         [0, 1, 2]]])\n",
            "Shape torch.Size([1, 3, 3])\n"
          ],
          "name": "stdout"
        }
      ]
    },
    {
      "cell_type": "code",
      "metadata": {
        "id": "rH8ijAm4kOW5",
        "outputId": "f35fa33f-d766-4be5-cce7-9c904568fce2",
        "colab": {
          "base_uri": "https://localhost:8080/",
          "height": 67
        }
      },
      "source": [
        "#for dim = 0 \n",
        "torch.gather(src_3d, 0, ind_3d)"
      ],
      "execution_count": 17,
      "outputs": [
        {
          "output_type": "execute_result",
          "data": {
            "text/plain": [
              "tensor([[[ 0, 13, 26],\n",
              "         [ 4, 17, 30],\n",
              "         [ 8, 21, 34]]])"
            ]
          },
          "metadata": {
            "tags": []
          },
          "execution_count": 17
        }
      ]
    },
    {
      "cell_type": "code",
      "metadata": {
        "id": "ygPg0PytkkJs",
        "outputId": "9be1f7c0-47f7-45e8-c2f3-de159cd96091",
        "colab": {
          "base_uri": "https://localhost:8080/",
          "height": 67
        }
      },
      "source": [
        "#for dim = 1\n",
        "torch.gather(src_3d, 1, ind_3d)"
      ],
      "execution_count": 18,
      "outputs": [
        {
          "output_type": "execute_result",
          "data": {
            "text/plain": [
              "tensor([[[ 0,  5, 10],\n",
              "         [ 0,  5, 10],\n",
              "         [ 0,  5, 10]]])"
            ]
          },
          "metadata": {
            "tags": []
          },
          "execution_count": 18
        }
      ]
    },
    {
      "cell_type": "code",
      "metadata": {
        "id": "EB5Lg1ZxkmEd",
        "outputId": "c6ac2638-0083-45a5-87b8-544e2f8095ca",
        "colab": {
          "base_uri": "https://localhost:8080/",
          "height": 67
        }
      },
      "source": [
        "#for dim = 2\n",
        "torch.gather(src_3d, 2, ind_3d)"
      ],
      "execution_count": 19,
      "outputs": [
        {
          "output_type": "execute_result",
          "data": {
            "text/plain": [
              "tensor([[[ 0,  1,  2],\n",
              "         [ 4,  5,  6],\n",
              "         [ 8,  9, 10]]])"
            ]
          },
          "metadata": {
            "tags": []
          },
          "execution_count": 19
        }
      ]
    },
    {
      "cell_type": "code",
      "metadata": {
        "id": "oY59CQ8wONgE"
      },
      "source": [
        ""
      ],
      "execution_count": 19,
      "outputs": []
    }
  ]
}